{
  "nbformat": 4,
  "nbformat_minor": 0,
  "metadata": {
    "colab": {
      "name": "numpy.ipynb",
      "provenance": [],
      "authorship_tag": "ABX9TyP9aJoYM9eohLkbnlSZrzvh",
      "include_colab_link": true
    },
    "kernelspec": {
      "name": "python3",
      "display_name": "Python 3"
    }
  },
  "cells": [
    {
      "cell_type": "markdown",
      "metadata": {
        "id": "view-in-github",
        "colab_type": "text"
      },
      "source": [
        "<a href=\"https://colab.research.google.com/github/thucuyen127/baitap/blob/main/numpy.ipynb\" target=\"_parent\"><img src=\"https://colab.research.google.com/assets/colab-badge.svg\" alt=\"Open In Colab\"/></a>"
      ]
    },
    {
      "cell_type": "code",
      "metadata": {
        "id": "QFKn_-mgNZ50",
        "colab": {
          "base_uri": "https://localhost:8080/"
        },
        "outputId": "39d4983a-0475-4e73-ec8b-dd2004b6c0a8"
      },
      "source": [
        "import numpy as np\r\n",
        "import random\r\n",
        "\r\n",
        "def taomatran(m,n): #Hàm tạo ma trận m hàng n cột\r\n",
        "  a = np.random.randint(-10,10,(m,n))\r\n",
        "  return a\r\n",
        "m=int(input('m = '))\r\n",
        "n=int(input('n = '))\r\n",
        "p=int(input('p = '))\r\n",
        "a = taomatran(m,n)\r\n",
        "b = taomatran(n,p)\r\n",
        "c = taomatran(m,n)\r\n",
        "print('A = \\n',a)\r\n",
        "print('B = \\n',b)\r\n",
        "print('C = \\n',c)\r\n",
        "print('A + C = \\n',a + c)\r\n",
        "print('A - C = \\n',a - c)\r\n",
        "print('A * B = \\n',a @ B)\r\n",
        "print('A * 5 = \\n',a * 5)\r\n",
        "print('A / 5 = \\n',a / 5)\r\n",
        "print('ma tran chuyen vi cua A:\\n',np.transpose(a))\r\n"
      ],
      "execution_count": 24,
      "outputs": [
        {
          "output_type": "stream",
          "text": [
            "m = 2\n",
            "n = 3\n",
            "p = 4\n",
            "A = \n",
            " [[  3  -6   1]\n",
            " [  4   4 -10]]\n",
            "B = \n",
            " [[ -8 -10  -7  -3]\n",
            " [  9   8   4   1]\n",
            " [  0  -5  -2   7]]\n",
            "C = \n",
            " [[ -6   0   8]\n",
            " [-10  -7   8]]\n",
            "A + C = \n",
            " [[-3 -6  9]\n",
            " [-6 -3 -2]]\n",
            "A - C = \n",
            " [[  9  -6  -7]\n",
            " [ 14  11 -18]]\n",
            "A * B = \n",
            " [[ -6247 -26228 -12272]\n",
            " [  1354  15554   7610]]\n",
            "A * 5 = \n",
            " [[ 15 -30   5]\n",
            " [ 20  20 -50]]\n",
            "A / 5 = \n",
            " [[ 0.6 -1.2  0.2]\n",
            " [ 0.8  0.8 -2. ]]\n",
            "ma tran chuyen vi cua A:\n",
            " [[  3   4]\n",
            " [ -6   4]\n",
            " [  1 -10]]\n"
          ],
          "name": "stdout"
        }
      ]
    }
  ]
}